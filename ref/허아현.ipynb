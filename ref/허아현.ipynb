{
 "cells": [
  {
   "cell_type": "markdown",
   "metadata": {},
   "source": [
    "### 1번 문제"
   ]
  },
  {
   "cell_type": "code",
   "execution_count": 80,
   "metadata": {},
   "outputs": [
    {
     "name": "stdout",
     "output_type": "stream",
     "text": [
      "반지름이 4인 원의 넓이 :  50.27\n"
     ]
    }
   ],
   "source": [
    "# 1번 문제\n",
    "r = int(input('반지름 값을 입력하시오 : '))\n",
    "ar = r*r*3.141592\n",
    "print(f'반지름이 {r}인 원의 넓이 : ', f'{ar:0.2f}')"
   ]
  },
  {
   "cell_type": "markdown",
   "metadata": {},
   "source": [
    "### 2번 문제"
   ]
  },
  {
   "cell_type": "code",
   "execution_count": 10,
   "metadata": {},
   "outputs": [
    {
     "data": {
      "text/plain": [
       "'Mars'"
      ]
     },
     "execution_count": 10,
     "metadata": {},
     "output_type": "execute_result"
    }
   ],
   "source": [
    "# 2번 문제\n",
    "dic = {'수성':'Mercury', '금성':'Venus', '지구':'Earth', '화성':'Mars', \\\n",
    "       '목성':'Jupiter', '토성':'Saturn', '천왕성':'Uranus', '혜왕성':'Neptune'}\n",
    "name = input('찾고자 하는 행성의 한글이름을 입력하시오 : ')\n",
    "\n",
    "dic[name]"
   ]
  },
  {
   "cell_type": "markdown",
   "metadata": {},
   "source": [
    "### 3번 문제"
   ]
  },
  {
   "cell_type": "code",
   "execution_count": 14,
   "metadata": {},
   "outputs": [
    {
     "name": "stdout",
     "output_type": "stream",
     "text": [
      "입력된 문자열 단어 수 :  6\n"
     ]
    }
   ],
   "source": [
    "# 3번 문제\n",
    "txt = input('문자열을 입력하시오 : ')\n",
    "\n",
    "print('입력된 문자열의 단어 수 : ', len(txt.split(' ')))"
   ]
  },
  {
   "cell_type": "markdown",
   "metadata": {},
   "source": [
    "### 4번 문제"
   ]
  },
  {
   "cell_type": "code",
   "execution_count": 85,
   "metadata": {},
   "outputs": [
    {
     "name": "stdout",
     "output_type": "stream",
     "text": [
      "2 8 9 5 4 1 "
     ]
    }
   ],
   "source": [
    "# 4번 문제\n",
    "# n = input('거꾸로 출력할 숫자를 나열하시오.(구분자 \\' \\')').split(' ')\n",
    "# print('입력 : ', n)\n",
    "# n.reverse()\n",
    "# print('결과 : ', n)\n",
    "\n",
    "# 또는\n",
    "# a = int(input())\n",
    "# print('입력 : ', a)\n",
    "# print('결과 : ', int(str(a)[::-1]))\n",
    "\n",
    "# 또는\n",
    "input_strs = input('수를 입력하세요 : ').split(' ')\n",
    "\n",
    "for i in reversed(input_strs) :\n",
    "    print(i, end=' ')"
   ]
  },
  {
   "cell_type": "markdown",
   "metadata": {},
   "source": [
    "### 5번 문제"
   ]
  },
  {
   "cell_type": "code",
   "execution_count": 78,
   "metadata": {},
   "outputs": [
    {
     "name": "stdout",
     "output_type": "stream",
     "text": [
      "-- 3단 --\n",
      "3  6  9  12  15  18  21  24  27  \n"
     ]
    }
   ],
   "source": [
    "# 5번 문제\n",
    "x = int(input('구구단을 수행할 단번호를 입력하시오 : '))\n",
    "print(f'-- {x}단 --')\n",
    "\n",
    "for y in range(1, 10) :\n",
    "    print(f'{x*y}', end='  ')\n",
    "print()"
   ]
  }
 ],
 "metadata": {
  "interpreter": {
   "hash": "38ae1ba9371524da054e8e3fbefd778d16b5a8ac7937a3f395010f627bb73919"
  },
  "kernelspec": {
   "display_name": "Python 3.9.12 64-bit",
   "language": "python",
   "name": "python3"
  },
  "language_info": {
   "codemirror_mode": {
    "name": "ipython",
    "version": 3
   },
   "file_extension": ".py",
   "mimetype": "text/x-python",
   "name": "python",
   "nbconvert_exporter": "python",
   "pygments_lexer": "ipython3",
   "version": "3.9.12"
  },
  "orig_nbformat": 4
 },
 "nbformat": 4,
 "nbformat_minor": 2
}
